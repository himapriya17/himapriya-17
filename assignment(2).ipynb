{
 "cells": [
  {
   "cell_type": "code",
   "execution_count": 1,
   "id": "7fd07c51",
   "metadata": {},
   "outputs": [
    {
     "name": "stdout",
     "output_type": "stream",
     "text": [
      "10\n",
      "30\n",
      "50\n",
      "apple\n",
      "banana\n",
      "True\n",
      "John\n",
      "25\n",
      "New York\n"
     ]
    }
   ],
   "source": [
    "\n",
    "my_list = [10, 20, 30, 40, 50]\n",
    "print(my_list[0])  \n",
    "print(my_list[2])  \n",
    "print(my_list[-1]) \n",
    "my_tuple = (1, \"apple\", 3.14, True, \"banana\")\n",
    "print(my_tuple[1]) \n",
    "print(my_tuple[4])  \n",
    "print(my_tuple[-2]) \n",
    "\n",
    "\n",
    "my_dict = {\"name\": \"John\", \"age\": 25, \"city\": \"New York\", \"job\": \"Engineer\", \"country\": \"USA\"}\n",
    "print(my_dict[\"name\"])  \n",
    "print(my_dict[\"age\"])  \n",
    "print(my_dict[\"city\"])  \n"
   ]
  },
  {
   "cell_type": "code",
   "execution_count": null,
   "id": "2e7ad3dd",
   "metadata": {},
   "outputs": [],
   "source": []
  }
 ],
 "metadata": {
  "kernelspec": {
   "display_name": "Python 3 (ipykernel)",
   "language": "python",
   "name": "python3"
  },
  "language_info": {
   "codemirror_mode": {
    "name": "ipython",
    "version": 3
   },
   "file_extension": ".py",
   "mimetype": "text/x-python",
   "name": "python",
   "nbconvert_exporter": "python",
   "pygments_lexer": "ipython3",
   "version": "3.11.5"
  }
 },
 "nbformat": 4,
 "nbformat_minor": 5
}
